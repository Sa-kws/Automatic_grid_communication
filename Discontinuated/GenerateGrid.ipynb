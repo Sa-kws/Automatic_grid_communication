{
 "cells": [
  {
   "cell_type": "markdown",
   "metadata": {},
   "source": [
    "# Génération de grille par POO\n",
    "\n",
    "- Créer une grille ✅\n",
    "- Créer des pages ✅\n",
    "- Ajouter les pages à la grille\n",
    "- Créer des items \n",
    "- Ajouter des items aux pages ✅\n",
    "- Créer des dossiers \n",
    "- Ajouter des dossiers aux pages\n",
    "- Lier les dossiers aux pages\n"
   ]
  },
  {
   "cell_type": "code",
   "execution_count": 1,
   "metadata": {},
   "outputs": [],
   "source": [
    "import pandas as pd\n",
    "import numpy as np"
   ]
  },
  {
   "cell_type": "code",
   "execution_count": 3,
   "metadata": {},
   "outputs": [],
   "source": [
    "class Grid:\n",
    "    \n",
    "    def __init__(self):\n",
    "        self.Grid = self\n",
    "    \n",
    "    def containsPages(self, folder):\n",
    "        pass\n",
    "        # les dossiers emmènent sur les pages\n",
    "    def addPage()"
   ]
  },
  {
   "cell_type": "code",
   "execution_count": 154,
   "metadata": {},
   "outputs": [],
   "source": [
    "class Page:\n",
    "    GRID_ROW = 2\n",
    "    GRID_COL = 4\n",
    "    GAP_SIZE = 1\n",
    "    def __init__(self):\n",
    "        self.Page = self\n",
    "\n",
    "    def makePage(self): \n",
    "        # On ajoutera le paramètre name pour identifier une page d'une autre, ex. page nouriture VS. page accueil\n",
    "        return np.zeros(shape=(self.GRID_ROW, self.GRID_COL), dtype=str)\n",
    "    #Initialisation d'une page avec les positions d'items (2 lignes / 4 colonnes) de type str\n",
    "    \n",
    "    def makeSentence():\n",
    "        pass\n",
    "    #OR\n",
    "    def clickItem():\n",
    "        pass\n",
    "    def openPage():\n",
    "        pass"
   ]
  },
  {
   "cell_type": "code",
   "execution_count": 155,
   "metadata": {},
   "outputs": [
    {
     "name": "stdout",
     "output_type": "stream",
     "text": [
      "[['' '' '' '']\n",
      " ['' '' '' '']]\n"
     ]
    }
   ],
   "source": [
    "page = Page()\n",
    "page = page.makePage()\n",
    "print(page)"
   ]
  },
  {
   "cell_type": "raw",
   "metadata": {},
   "source": [
    "for i in page:\n",
    "    if type(i) != str:\n",
    "        print(i)\n",
    "        for j in i:\n",
    "            for k in j:\n",
    "                print('Ici il faut mettre un item')"
   ]
  },
  {
   "cell_type": "code",
   "execution_count": 3,
   "metadata": {},
   "outputs": [],
   "source": [
    "class FolderGoTo:\n",
    "    def __init__(self, GoTo):\n",
    "        FolderGoTo.self = self\n",
    "        FolderGoTo.GoTo = GoTo\n",
    "        \n",
    "    def goFolder(goto):\n",
    "        pass\n",
    "    \n",
    "    def openPage:\n",
    "        pass"
   ]
  },
  {
   "cell_type": "code",
   "execution_count": 188,
   "metadata": {},
   "outputs": [],
   "source": [
    "class GridElement:\n",
    "    \n",
    "    #ELEMENT_FORMS_LIST = []\n",
    "    #INTERACTIONS_LIST = []\n",
    "    TYPE = str\n",
    "    COLUMNS = Page.GRID_COL\n",
    "    ROWS = Page.GRID_ROW\n",
    "    GRID_COL = Page.GRID_COL\n",
    "    GRID_ROW = Page.GRID_ROW\n",
    "    \n",
    "    # Pour avoir la position d'un item il faut parcourir une liste et créer une position Row_1xCol_1 ; Row_1xCol_2 ; ... et y ajouter un item\n",
    "    \n",
    "    def __init__(self):\n",
    "        self.GridElement = self\n",
    "    \n",
    "    def affiche():\n",
    "        print('This is working')\n",
    "        \n",
    "    '''def cP(self):\n",
    "        for row in range(0,len(Page.makePage(self))):\n",
    "            for pos in range(0,len(Page.makePage(self)[row])):\n",
    "                Page.makePage(self)[row][pos] = 'word'\n",
    "        print(Page.makePage(self))'''\n",
    "    \n",
    "    def createPosition(self):\n",
    "        self.createPosition = self.GridElement\n",
    "        grid_pos = []\n",
    "        for row in range(0,self.ROWS):\n",
    "            for col in range(0,self.COLUMNS):\n",
    "                inter = []\n",
    "                inter.append(row+1)\n",
    "                inter.append(col+1)\n",
    "                grid_pos.append(inter)\n",
    "        return grid_pos\n",
    "    \n",
    "    def getWords(data_from):\n",
    "        #data_from = 'Decoded_ESLO_vocab.txt'\n",
    "        words=[]\n",
    "        for i in open(data_from,encoding='utf-8'):\n",
    "            if i == '\\n':\n",
    "                pass\n",
    "            else:\n",
    "                word = i.split('\\'')\n",
    "                words.append(word[1])\n",
    "    \n",
    "    def addItem(self, list_position):\n",
    "        #list_position = grid_pos (createPosition). Il faut passer en paramètre la variable dans laquelle on stock le résultat de createPosition\n",
    "        liste_items = []\n",
    "        for pos in list_position:\n",
    "            inter = []\n",
    "            #for word in liste_lemme ESLO\n",
    "            inter.append('word')\n",
    "            inter.append(pos)\n",
    "            liste_items.append(inter)\n",
    "        return liste_items"
   ]
  },
  {
   "cell_type": "code",
   "execution_count": 189,
   "metadata": {
    "scrolled": true
   },
   "outputs": [
    {
     "name": "stdout",
     "output_type": "stream",
     "text": [
      "[['' '' '' '']\n",
      " ['' '' '' '']]\n"
     ]
    }
   ],
   "source": [
    "grid = GridElement()\n",
    "position = grid.cP()"
   ]
  },
  {
   "cell_type": "code",
   "execution_count": 132,
   "metadata": {},
   "outputs": [],
   "source": [
    "def main():\n",
    "    page = Page()\n",
    "    page = page.makePage()\n",
    "    \n",
    "    grid = GridElement()\n",
    "    position = grid.createPosition()\n",
    "    items = grid.addItem(position)"
   ]
  },
  {
   "cell_type": "code",
   "execution_count": 133,
   "metadata": {
    "scrolled": false
   },
   "outputs": [
    {
     "name": "stdout",
     "output_type": "stream",
     "text": [
      "['' '' '' '']\n",
      "['' '' '' '']\n"
     ]
    }
   ],
   "source": [
    "main()"
   ]
  },
  {
   "cell_type": "code",
   "execution_count": null,
   "metadata": {},
   "outputs": [],
   "source": []
  },
  {
   "cell_type": "code",
   "execution_count": null,
   "metadata": {},
   "outputs": [],
   "source": []
  },
  {
   "cell_type": "code",
   "execution_count": 5,
   "metadata": {},
   "outputs": [],
   "source": [
    "class Intercation: \n",
    "    def __init__(self, ID, ActionList):\n",
    "        Intercation.self = self\n",
    "        Intercation.ID = ID\n",
    "        Intercation.ActionList = []"
   ]
  },
  {
   "cell_type": "code",
   "execution_count": 6,
   "metadata": {},
   "outputs": [],
   "source": [
    "class Action:\n",
    "    def __init__(self, ID, Options):\n",
    "        Action.self = self\n",
    "        Action.ID = ID\n",
    "        Action.Options = []"
   ]
  }
 ],
 "metadata": {
  "kernelspec": {
   "display_name": "Python 3",
   "language": "python",
   "name": "python3"
  },
  "language_info": {
   "codemirror_mode": {
    "name": "ipython",
    "version": 3
   },
   "file_extension": ".py",
   "mimetype": "text/x-python",
   "name": "python",
   "nbconvert_exporter": "python",
   "pygments_lexer": "ipython3",
   "version": "3.8.5"
  }
 },
 "nbformat": 4,
 "nbformat_minor": 4
}
